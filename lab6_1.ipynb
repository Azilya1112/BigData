{
 "cells": [
  {
   "cell_type": "markdown",
   "source": [
    "2.\tИспользуя один из подходящих игрушечных датасетов (breast_canser, digits, diabetes …) применить алгоритмы улучшения качества и оценки моделей (перекрестная проверка, решетчатый поиск, метрики модели)\n",
    "3.\tСоздать модель классификатор, которая по определенному обучаемому набору (salary, city, age, vacation_prefer, transport_prefer) будет определять предпочтения человека (target), в каком городе провести отпуск.\n",
    "a.\tСоздать свой датасет с категориальными данными (1000 строк), которые содержат следующие поля: (salary, city, age, vacation_prefer, transport_prefer, target). Применить import random (random. choice, random.randint)\n",
    "b.\tSalary – установить числовой тип (например 50000), city – город проживания (например, Bishkek), age – возраст (например, от 30 до 65), vacation_prefer – тип отдыха (например, Shopping или Beach holiday), transport_prefer – тип транспорта (например, auto, plane), target – город, в котором проведем отпуск (например, London, Moscow)\n",
    "c.\tПреобразовать категориальные данные в числовые, используя panadas.get_dummies.\n",
    "d.\tВыделить обучающую выборку и тестовую выборку (X_train, y_train, X-test, y_test)\n",
    "e.\tВыбрать модель классификатор (например, from sklearn.ensemble import RandomForestClassifier)\n",
    "f.\tПроверить оценку модели.\n",
    "g.\tСделать предсказание на случайных данных.\n",
    "h.\tУлучшить модель согласно примеров лекций 9-10 и материала лабораторной работы\n"
   ],
   "metadata": {
    "collapsed": false
   }
  },
  {
   "cell_type": "markdown",
   "source": [
    "<h1>Перекрестная проверка</h1>"
   ],
   "metadata": {
    "collapsed": false
   }
  },
  {
   "cell_type": "code",
   "execution_count": 68,
   "outputs": [],
   "source": [
    "from sklearn.model_selection import cross_val_score\n",
    "from sklearn.datasets import load_digits\n",
    "from sklearn.linear_model import LogisticRegression"
   ],
   "metadata": {
    "collapsed": false,
    "ExecuteTime": {
     "end_time": "2023-12-05T05:40:58.628581600Z",
     "start_time": "2023-12-05T05:40:58.494898500Z"
    }
   }
  },
  {
   "cell_type": "code",
   "execution_count": 69,
   "outputs": [
    {
     "name": "stdout",
     "output_type": "stream",
     "text": [
      "Cross validation scores: [0.925      0.875      0.93871866 0.93314763 0.89693593]\n",
      "Средняя правильность перекрестной модели: 0.9137604456824512\n"
     ]
    }
   ],
   "source": [
    "digits=load_digits()\n",
    "logreg=LogisticRegression(max_iter=10000)\n",
    "\n",
    "scores1=cross_val_score(logreg, digits.data, digits.target,cv=5)\n",
    "print(\"Cross validation scores: {}\".format(scores1))\n",
    "print(\"Средняя правильность перекрестной модели: {}\".format(scores1.mean()))"
   ],
   "metadata": {
    "collapsed": false,
    "ExecuteTime": {
     "end_time": "2023-12-05T05:41:09.597371600Z",
     "start_time": "2023-12-05T05:40:58.525253800Z"
    }
   }
  },
  {
   "cell_type": "code",
   "execution_count": 70,
   "outputs": [
    {
     "name": "stdout",
     "output_type": "stream",
     "text": [
      "Значения правильности перекрестной проверки:\n",
      "[0.96551724 0.96440489 0.96774194 0.9621802  0.95661846 0.96440489\n",
      " 0.95550612 0.96885428 0.95773081 0.95550612]\n"
     ]
    }
   ],
   "source": [
    "from sklearn.model_selection import ShuffleSplit\n",
    "\n",
    "shuffle_split = ShuffleSplit(test_size=.5, train_size=.5, n_splits=10)\n",
    "scores = cross_val_score(logreg, digits.data, digits.target, cv=shuffle_split)\n",
    "print(\"Значения правильности перекрестной проверки:\\n{}\".format(scores))"
   ],
   "metadata": {
    "collapsed": false,
    "ExecuteTime": {
     "end_time": "2023-12-05T05:41:29.309751200Z",
     "start_time": "2023-12-05T05:41:09.604886700Z"
    }
   }
  },
  {
   "cell_type": "markdown",
   "source": [
    "<h1>Решетчатый поиск</h1>"
   ],
   "metadata": {
    "collapsed": false
   }
  },
  {
   "cell_type": "code",
   "execution_count": 71,
   "outputs": [
    {
     "name": "stdout",
     "output_type": "stream",
     "text": [
      "Наилучшие параметры:  {'C': 0.1, 'gamma': 0.01, 'kernel': 'linear'}\n",
      "Наилучшая точность:  0.9707680023228804\n"
     ]
    }
   ],
   "source": [
    "from sklearn.model_selection import GridSearchCV, train_test_split\n",
    "from sklearn.svm import SVC\n",
    "\n",
    "X, y = digits.data, digits.target\n",
    "X_train, X_test, y_train, y_test = train_test_split(X, y, test_size=0.2, random_state=42)\n",
    "svm = SVC()\n",
    "param_grid={'C':[0.1,1,10,100], 'gamma':[0.01,0.1,1,10], 'kernel': ['linear', 'rbf']}\n",
    "grid_search=GridSearchCV(svm, param_grid,cv=5, scoring='accuracy', n_jobs=-1)\n",
    "grid_search.fit(X_train, y_train)\n",
    "print(\"Наилучшие параметры: \", grid_search.best_params_)\n",
    "print(\"Наилучшая точность: \", grid_search.best_score_)"
   ],
   "metadata": {
    "collapsed": false,
    "ExecuteTime": {
     "end_time": "2023-12-05T05:41:42.402387600Z",
     "start_time": "2023-12-05T05:41:29.314858200Z"
    }
   }
  },
  {
   "cell_type": "code",
   "execution_count": 72,
   "outputs": [
    {
     "data": {
      "text/plain": "   mean_fit_time  std_fit_time  mean_score_time  std_score_time param_C  \\\n0       0.042381      0.002748         0.008933        0.002579     0.1   \n1       0.263265      0.016212         0.097473        0.007063     0.1   \n2       0.047013      0.004261         0.008873        0.000839     0.1   \n3       0.311150      0.011064         0.108493        0.033580     0.1   \n4       0.040982      0.002242         0.010237        0.002984     0.1   \n\n  param_gamma param_kernel                                         params  \\\n0        0.01       linear  {'C': 0.1, 'gamma': 0.01, 'kernel': 'linear'}   \n1        0.01          rbf     {'C': 0.1, 'gamma': 0.01, 'kernel': 'rbf'}   \n2         0.1       linear   {'C': 0.1, 'gamma': 0.1, 'kernel': 'linear'}   \n3         0.1          rbf      {'C': 0.1, 'gamma': 0.1, 'kernel': 'rbf'}   \n4           1       linear     {'C': 0.1, 'gamma': 1, 'kernel': 'linear'}   \n\n   split0_test_score  split1_test_score  split2_test_score  split3_test_score  \\\n0           0.975694           0.972222           0.965157           0.982578   \n1           0.107639           0.107639           0.108014           0.108014   \n2           0.975694           0.972222           0.965157           0.982578   \n3           0.107639           0.107639           0.108014           0.108014   \n4           0.975694           0.972222           0.965157           0.982578   \n\n   split4_test_score  mean_test_score  std_test_score  rank_test_score  \n0           0.958188         0.970768        0.008433                1  \n1           0.104530         0.107167        0.001329               20  \n2           0.958188         0.970768        0.008433                1  \n3           0.104530         0.107167        0.001329               20  \n4           0.958188         0.970768        0.008433                1  ",
      "text/html": "<div>\n<style scoped>\n    .dataframe tbody tr th:only-of-type {\n        vertical-align: middle;\n    }\n\n    .dataframe tbody tr th {\n        vertical-align: top;\n    }\n\n    .dataframe thead th {\n        text-align: right;\n    }\n</style>\n<table border=\"1\" class=\"dataframe\">\n  <thead>\n    <tr style=\"text-align: right;\">\n      <th></th>\n      <th>mean_fit_time</th>\n      <th>std_fit_time</th>\n      <th>mean_score_time</th>\n      <th>std_score_time</th>\n      <th>param_C</th>\n      <th>param_gamma</th>\n      <th>param_kernel</th>\n      <th>params</th>\n      <th>split0_test_score</th>\n      <th>split1_test_score</th>\n      <th>split2_test_score</th>\n      <th>split3_test_score</th>\n      <th>split4_test_score</th>\n      <th>mean_test_score</th>\n      <th>std_test_score</th>\n      <th>rank_test_score</th>\n    </tr>\n  </thead>\n  <tbody>\n    <tr>\n      <th>0</th>\n      <td>0.042381</td>\n      <td>0.002748</td>\n      <td>0.008933</td>\n      <td>0.002579</td>\n      <td>0.1</td>\n      <td>0.01</td>\n      <td>linear</td>\n      <td>{'C': 0.1, 'gamma': 0.01, 'kernel': 'linear'}</td>\n      <td>0.975694</td>\n      <td>0.972222</td>\n      <td>0.965157</td>\n      <td>0.982578</td>\n      <td>0.958188</td>\n      <td>0.970768</td>\n      <td>0.008433</td>\n      <td>1</td>\n    </tr>\n    <tr>\n      <th>1</th>\n      <td>0.263265</td>\n      <td>0.016212</td>\n      <td>0.097473</td>\n      <td>0.007063</td>\n      <td>0.1</td>\n      <td>0.01</td>\n      <td>rbf</td>\n      <td>{'C': 0.1, 'gamma': 0.01, 'kernel': 'rbf'}</td>\n      <td>0.107639</td>\n      <td>0.107639</td>\n      <td>0.108014</td>\n      <td>0.108014</td>\n      <td>0.104530</td>\n      <td>0.107167</td>\n      <td>0.001329</td>\n      <td>20</td>\n    </tr>\n    <tr>\n      <th>2</th>\n      <td>0.047013</td>\n      <td>0.004261</td>\n      <td>0.008873</td>\n      <td>0.000839</td>\n      <td>0.1</td>\n      <td>0.1</td>\n      <td>linear</td>\n      <td>{'C': 0.1, 'gamma': 0.1, 'kernel': 'linear'}</td>\n      <td>0.975694</td>\n      <td>0.972222</td>\n      <td>0.965157</td>\n      <td>0.982578</td>\n      <td>0.958188</td>\n      <td>0.970768</td>\n      <td>0.008433</td>\n      <td>1</td>\n    </tr>\n    <tr>\n      <th>3</th>\n      <td>0.311150</td>\n      <td>0.011064</td>\n      <td>0.108493</td>\n      <td>0.033580</td>\n      <td>0.1</td>\n      <td>0.1</td>\n      <td>rbf</td>\n      <td>{'C': 0.1, 'gamma': 0.1, 'kernel': 'rbf'}</td>\n      <td>0.107639</td>\n      <td>0.107639</td>\n      <td>0.108014</td>\n      <td>0.108014</td>\n      <td>0.104530</td>\n      <td>0.107167</td>\n      <td>0.001329</td>\n      <td>20</td>\n    </tr>\n    <tr>\n      <th>4</th>\n      <td>0.040982</td>\n      <td>0.002242</td>\n      <td>0.010237</td>\n      <td>0.002984</td>\n      <td>0.1</td>\n      <td>1</td>\n      <td>linear</td>\n      <td>{'C': 0.1, 'gamma': 1, 'kernel': 'linear'}</td>\n      <td>0.975694</td>\n      <td>0.972222</td>\n      <td>0.965157</td>\n      <td>0.982578</td>\n      <td>0.958188</td>\n      <td>0.970768</td>\n      <td>0.008433</td>\n      <td>1</td>\n    </tr>\n  </tbody>\n</table>\n</div>"
     },
     "metadata": {},
     "output_type": "display_data"
    }
   ],
   "source": [
    "import pandas as pd\n",
    "results=pd.DataFrame(grid_search.cv_results_)\n",
    "display(results.head())"
   ],
   "metadata": {
    "collapsed": false,
    "ExecuteTime": {
     "end_time": "2023-12-05T05:41:42.473496800Z",
     "start_time": "2023-12-05T05:41:42.407888500Z"
    }
   }
  },
  {
   "cell_type": "code",
   "execution_count": 1,
   "outputs": [
    {
     "ename": "NameError",
     "evalue": "name 'results' is not defined",
     "output_type": "error",
     "traceback": [
      "\u001B[1;31m---------------------------------------------------------------------------\u001B[0m",
      "\u001B[1;31mNameError\u001B[0m                                 Traceback (most recent call last)",
      "Cell \u001B[1;32mIn[1], line 5\u001B[0m\n\u001B[0;32m      2\u001B[0m \u001B[38;5;28;01mimport\u001B[39;00m \u001B[38;5;21;01mseaborn\u001B[39;00m \u001B[38;5;28;01mas\u001B[39;00m \u001B[38;5;21;01msns\u001B[39;00m\n\u001B[0;32m      3\u001B[0m \u001B[38;5;28;01mimport\u001B[39;00m \u001B[38;5;21;01mmatplotlib\u001B[39;00m\u001B[38;5;21;01m.\u001B[39;00m\u001B[38;5;21;01mpyplot\u001B[39;00m \u001B[38;5;28;01mas\u001B[39;00m \u001B[38;5;21;01mplt\u001B[39;00m\n\u001B[1;32m----> 5\u001B[0m scores \u001B[38;5;241m=\u001B[39m np\u001B[38;5;241m.\u001B[39marray(\u001B[43mresults\u001B[49m\u001B[38;5;241m.\u001B[39mmean_test_score)\u001B[38;5;241m.\u001B[39mreshape(\u001B[38;5;241m6\u001B[39m,\u001B[38;5;241m6\u001B[39m)\n\u001B[0;32m      7\u001B[0m ax \u001B[38;5;241m=\u001B[39m sns\u001B[38;5;241m.\u001B[39mheatmap(scores, annot\u001B[38;5;241m=\u001B[39m\u001B[38;5;28;01mTrue\u001B[39;00m, xticklabels\u001B[38;5;241m=\u001B[39mparam_grid[\u001B[38;5;124m'\u001B[39m\u001B[38;5;124mgamma\u001B[39m\u001B[38;5;124m'\u001B[39m], yticklabels\u001B[38;5;241m=\u001B[39mparam_grid[\u001B[38;5;124m'\u001B[39m\u001B[38;5;124mC\u001B[39m\u001B[38;5;124m'\u001B[39m], cmap\u001B[38;5;241m=\u001B[39m\u001B[38;5;124m'\u001B[39m\u001B[38;5;124mhsv\u001B[39m\u001B[38;5;124m'\u001B[39m)\n\u001B[0;32m      9\u001B[0m ax\u001B[38;5;241m.\u001B[39mset(xlabel\u001B[38;5;241m=\u001B[39m\u001B[38;5;124m\"\u001B[39m\u001B[38;5;124mgamma\u001B[39m\u001B[38;5;124m\"\u001B[39m, ylabel\u001B[38;5;241m=\u001B[39m\u001B[38;5;124m\"\u001B[39m\u001B[38;5;124mC\u001B[39m\u001B[38;5;124m\"\u001B[39m)\n",
      "\u001B[1;31mNameError\u001B[0m: name 'results' is not defined"
     ]
    }
   ],
   "source": [
    "import numpy as np\n",
    "import seaborn as sns\n",
    "import matplotlib.pyplot as plt\n",
    "\n",
    "scores = np.array(results.mean_test_score).reshape(6,6)\n",
    "\n",
    "ax = sns.heatmap(scores, annot=True, xticklabels=param_grid['gamma'], yticklabels=param_grid['C'], cmap='hsv')\n",
    "\n",
    "ax.set(xlabel=\"gamma\", ylabel=\"C\")\n",
    "\n",
    "ax.xaxis.tick_top()\n",
    "\n",
    "plt.show()"
   ],
   "metadata": {
    "collapsed": false,
    "ExecuteTime": {
     "end_time": "2023-12-05T18:42:09.250886800Z",
     "start_time": "2023-12-05T18:42:08.740084700Z"
    }
   }
  },
  {
   "cell_type": "markdown",
   "source": [
    "<h1>Метрики модели</h1>"
   ],
   "metadata": {
    "collapsed": false
   }
  },
  {
   "cell_type": "code",
   "execution_count": 77,
   "outputs": [
    {
     "name": "stdout",
     "output_type": "stream",
     "text": [
      "Accuracy: 0.9861111111111112\n",
      "Precision: 0.9861882716049383\n",
      "Recall: 0.9861111111111112\n",
      "F1-score: 0.9861071324368055\n"
     ]
    }
   ],
   "source": [
    "from sklearn.metrics import accuracy_score, precision_score, recall_score, f1_score, classification_report, confusion_matrix\n",
    "\n",
    "X, y = digits.data, digits.target\n",
    "X_train, X_test, y_train, y_test = train_test_split(X, y, test_size=0.2, random_state=42)\n",
    "model = SVC()\n",
    "\n",
    "model.fit(X_train, y_train)\n",
    "\n",
    "y_pred = model.predict(X_test)\n",
    "accuracy = accuracy_score(y_test, y_pred)\n",
    "precision = precision_score(y_test, y_pred, average='weighted')\n",
    "recall = recall_score(y_test, y_pred, average='weighted')\n",
    "f1 = f1_score(y_test, y_pred, average='weighted')\n",
    "\n",
    "print(\"Accuracy: {}\".format(accuracy))\n",
    "print(\"Precision: {}\".format(precision))\n",
    "print(\"Recall: {}\".format(recall))\n",
    "print(\"F1-score: {}\".format(f1))"
   ],
   "metadata": {
    "collapsed": false,
    "ExecuteTime": {
     "end_time": "2023-12-05T05:49:01.574611700Z",
     "start_time": "2023-12-05T05:49:01.386323200Z"
    }
   }
  },
  {
   "cell_type": "code",
   "execution_count": 78,
   "outputs": [
    {
     "name": "stdout",
     "output_type": "stream",
     "text": [
      "\n",
      "Classification Report:\n",
      "              precision    recall  f1-score   support\n",
      "\n",
      "           0       1.00      1.00      1.00        33\n",
      "           1       1.00      1.00      1.00        28\n",
      "           2       1.00      1.00      1.00        33\n",
      "           3       1.00      1.00      1.00        34\n",
      "           4       1.00      1.00      1.00        46\n",
      "           5       0.98      0.98      0.98        47\n",
      "           6       0.97      1.00      0.99        35\n",
      "           7       0.97      0.97      0.97        34\n",
      "           8       1.00      0.97      0.98        30\n",
      "           9       0.95      0.95      0.95        40\n",
      "\n",
      "    accuracy                           0.99       360\n",
      "   macro avg       0.99      0.99      0.99       360\n",
      "weighted avg       0.99      0.99      0.99       360\n",
      "\n",
      "\n",
      "Confusion Matrix:\n",
      "[[33  0  0  0  0  0  0  0  0  0]\n",
      " [ 0 28  0  0  0  0  0  0  0  0]\n",
      " [ 0  0 33  0  0  0  0  0  0  0]\n",
      " [ 0  0  0 34  0  0  0  0  0  0]\n",
      " [ 0  0  0  0 46  0  0  0  0  0]\n",
      " [ 0  0  0  0  0 46  1  0  0  0]\n",
      " [ 0  0  0  0  0  0 35  0  0  0]\n",
      " [ 0  0  0  0  0  0  0 33  0  1]\n",
      " [ 0  0  0  0  0  0  0  0 29  1]\n",
      " [ 0  0  0  0  0  1  0  1  0 38]]\n"
     ]
    }
   ],
   "source": [
    "print(\"\\nClassification Report:\")\n",
    "print(classification_report(y_test, y_pred))\n",
    "\n",
    "print(\"\\nConfusion Matrix:\")\n",
    "print(confusion_matrix(y_test, y_pred))"
   ],
   "metadata": {
    "collapsed": false,
    "ExecuteTime": {
     "end_time": "2023-12-05T05:50:12.204587600Z",
     "start_time": "2023-12-05T05:50:12.170187Z"
    }
   }
  },
  {
   "cell_type": "code",
   "execution_count": null,
   "outputs": [],
   "source": [],
   "metadata": {
    "collapsed": false
   }
  }
 ],
 "metadata": {
  "kernelspec": {
   "display_name": "Python 3",
   "language": "python",
   "name": "python3"
  },
  "language_info": {
   "codemirror_mode": {
    "name": "ipython",
    "version": 2
   },
   "file_extension": ".py",
   "mimetype": "text/x-python",
   "name": "python",
   "nbconvert_exporter": "python",
   "pygments_lexer": "ipython2",
   "version": "2.7.6"
  }
 },
 "nbformat": 4,
 "nbformat_minor": 0
}
