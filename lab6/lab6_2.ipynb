{
 "cells": [
  {
   "cell_type": "code",
   "execution_count": 114,
   "outputs": [],
   "source": [
    "import csv\n",
    "from random import randint, choice"
   ],
   "metadata": {
    "collapsed": false,
    "ExecuteTime": {
     "end_time": "2023-12-05T19:19:05.986063200Z",
     "start_time": "2023-12-05T19:19:05.941884700Z"
    }
   }
  },
  {
   "cell_type": "code",
   "execution_count": 115,
   "outputs": [],
   "source": [
    "with open('lab6_dataset.csv', 'w', newline='') as csvfile:\n",
    "    writer = csv.writer(csvfile)\n",
    "    writer.writerow(['name', 'second_name', 'salary', 'city', 'age', 'vacation_prefer', 'transport_prefer', 'target'])"
   ],
   "metadata": {
    "collapsed": false,
    "ExecuteTime": {
     "end_time": "2023-12-05T19:19:05.986063200Z",
     "start_time": "2023-12-05T19:19:05.959477400Z"
    }
   }
  },
  {
   "cell_type": "code",
   "execution_count": 116,
   "outputs": [],
   "source": [
    "def generate_data():\n",
    "        name = choice(['John', 'Emily', 'Michael', 'Sophia', 'David', 'Emma', 'Matthew', 'Olivia', 'Daniel', 'Ava', 'Christopher', 'Isabella', 'Andrew', 'Mia', 'Ethan', 'Abigail', 'William', 'Madison', 'James', 'Sophie', 'Alexander', 'Grace', 'Nicholas', 'Avery', 'Benjamin'])\n",
    "        second_name = choice(['Smith', 'Johnson', 'Williams', 'Jones', 'Brown', 'Davis', 'Miller', 'Wilson', 'Moore', 'Taylor', 'Anderson', 'Thomas', 'Jackson', 'White', 'Harris', 'Martin', 'Thompson', 'Garcia', 'Martinez', 'Lopez'])\n",
    "        salary = randint(40000, 90000)\n",
    "        city = choice(['Tokyo', 'Beijing', 'Sydney', 'Toronto', 'Berlin', 'Barcelona', 'Chicago', 'San Francisco', 'Seattle', 'Sydney', 'Dublin', 'Tokyo', 'Seoul', 'Cape Town', 'Mumbai', 'Singapore'])\n",
    "        age = randint(25, 70)\n",
    "        vacation_prefer = choice(['Safari', 'Mountain hiking', 'Cruise', 'Food tour', 'Historical sightseeing', 'Relaxation spa', 'Festival', 'Golf retreat'])\n",
    "        transport_prefer = choice(['car', 'plane', 'train', 'cruise ship'])\n",
    "        target = choice(['Tokyo', 'Paris', 'New York', 'Barcelona', 'Dubai'])\n",
    "\n",
    "        return [name, second_name, salary, city, age, vacation_prefer, transport_prefer, target]\n"
   ],
   "metadata": {
    "collapsed": false,
    "ExecuteTime": {
     "end_time": "2023-12-05T19:19:05.990763300Z",
     "start_time": "2023-12-05T19:19:05.978245700Z"
    }
   }
  },
  {
   "cell_type": "code",
   "execution_count": 117,
   "outputs": [
    {
     "name": "stdout",
     "output_type": "stream",
     "text": [
      "CSV file 'lab6_dataset.csv' has been generated with random data.\n",
      "Modified CSV file 'lab6_dataset_numerical.csv' has been generated with numerical data.\n"
     ]
    }
   ],
   "source": [
    "import pandas as pd\n",
    "\n",
    "csv_file_path = 'lab6_dataset.csv'\n",
    "with open(csv_file_path, 'w', newline='') as csvfile:\n",
    "    writer = csv.writer(csvfile)\n",
    "    writer.writerow(['Name', 'Second Name', 'Salary', 'City', 'Age', 'Vacation Preference', 'Transport Preference', 'Target Destination'])\n",
    "    for _ in range(1000):\n",
    "        writer.writerow(generate_data())\n",
    "\n",
    "print(f\"CSV file '{csv_file_path}' has been generated with random data.\")\n",
    "\n",
    "# Read the CSV file into a DataFrame\n",
    "df = pd.read_csv(csv_file_path)\n",
    "\n",
    "# Use get_dummies to convert categorical columns to numerical format\n",
    "df = pd.get_dummies(df, columns=['Name', 'Second Name', 'City', 'Vacation Preference', 'Transport Preference', 'Target Destination'], drop_first=True)\n",
    "\n",
    "# Save the modified data to a new CSV file\n",
    "modified_csv_path = 'lab6_dataset_numerical.csv'\n",
    "df.to_csv(modified_csv_path, index=False)\n",
    "\n",
    "print(f\"Modified CSV file '{modified_csv_path}' has been generated with numerical data.\")"
   ],
   "metadata": {
    "collapsed": false,
    "ExecuteTime": {
     "end_time": "2023-12-05T19:19:06.036723200Z",
     "start_time": "2023-12-05T19:19:05.995290Z"
    }
   }
  },
  {
   "cell_type": "code",
   "execution_count": 123,
   "outputs": [],
   "source": [
    "from sklearn.model_selection import train_test_split\n",
    "df = pd.read_csv('lab6_dataset.csv')\n",
    "\n",
    "target_variable = df.columns.difference(['Name', 'Second Name', 'Salary', 'City', 'Age', 'Vacation Preference', 'Transport Preference', 'Target Destination'])\n",
    "\n",
    "X = df.drop(target_variable, axis=1)\n",
    "y = df[target_variable]\n",
    "X_train, X_test, y_train, y_test = train_test_split(X, y, test_size=0.2, random_state=42)"
   ],
   "metadata": {
    "collapsed": false,
    "ExecuteTime": {
     "end_time": "2023-12-05T19:20:51.795967300Z",
     "start_time": "2023-12-05T19:20:51.781604100Z"
    }
   }
  },
  {
   "cell_type": "code",
   "execution_count": 124,
   "outputs": [
    {
     "name": "stdout",
     "output_type": "stream",
     "text": [
      "Accuracy: 0.93\n",
      "Confusion Matrix:\n",
      "[[185   0]\n",
      " [ 15   0]]\n",
      "Classification Report:\n",
      "              precision    recall  f1-score   support\n",
      "\n",
      "       False       0.93      1.00      0.96       185\n",
      "        True       1.00      0.00      0.00        15\n",
      "\n",
      "    accuracy                           0.93       200\n",
      "   macro avg       0.96      0.50      0.48       200\n",
      "weighted avg       0.93      0.93      0.89       200\n",
      "\n"
     ]
    }
   ],
   "source": [
    "import pandas as pd\n",
    "from sklearn.ensemble import RandomForestClassifier\n",
    "from sklearn.model_selection import train_test_split\n",
    "from sklearn.metrics import accuracy_score, classification_report, confusion_matrix\n",
    "\n",
    "modified_csv_path = 'lab6_dataset_numerical.csv'\n",
    "df = pd.read_csv(modified_csv_path)\n",
    "\n",
    "target_variable = df.columns.difference(['Name', 'Second Name', 'Salary', 'City', 'Age', 'Vacation Preference', 'Transport Preference','Target Destination'])[0]\n",
    "\n",
    "X = df.drop(target_variable, axis=1)\n",
    "y = df[target_variable]\n",
    "X_train, X_test, y_train, y_test = train_test_split(X, y, test_size=0.2, random_state=42)\n",
    "\n",
    "clf = RandomForestClassifier(random_state=42)\n",
    "clf.fit(X_train, y_train)\n",
    "y_pred = clf.predict(X_test)\n",
    "\n",
    "accuracy = accuracy_score(y_test, y_pred)\n",
    "conf_matrix = confusion_matrix(y_test, y_pred)\n",
    "class_report = classification_report(y_test, y_pred, zero_division=1)\n",
    "\n",
    "# Print the results\n",
    "print(f\"Accuracy: {accuracy:.2f}\")\n",
    "print(\"Confusion Matrix:\")\n",
    "print(conf_matrix)\n",
    "print(\"Classification Report:\")\n",
    "print(class_report)"
   ],
   "metadata": {
    "collapsed": false,
    "ExecuteTime": {
     "end_time": "2023-12-05T19:20:53.327464900Z",
     "start_time": "2023-12-05T19:20:53.084931700Z"
    }
   }
  },
  {
   "cell_type": "code",
   "execution_count": 125,
   "outputs": [
    {
     "name": "stdout",
     "output_type": "stream",
     "text": [
      "Predicted Target Destination: False\n"
     ]
    }
   ],
   "source": [
    "random_data = {'Name': ['John'],\n",
    "               'Second Name': ['Smith'],\n",
    "               'Salary': [65000],\n",
    "               'City': ['New York'],\n",
    "               'Age': [40],\n",
    "               'Vacation Preference': ['Beach holiday'],\n",
    "               'Transport Preference': ['plane']}\n",
    "\n",
    "random_df = pd.DataFrame(random_data)\n",
    "\n",
    "# Ensure dummy columns match those used during training\n",
    "random_df = pd.get_dummies(random_df, columns=['Name', 'Second Name', 'City', 'Vacation Preference', 'Transport Preference'], drop_first=True)\n",
    "\n",
    "missing_columns = set(X_train.columns) - set(random_df.columns)\n",
    "for col in missing_columns:\n",
    "    random_df[col] = 0\n",
    "\n",
    "# Ensure the column order is the same as during training\n",
    "random_df = random_df[X_train.columns]\n",
    "\n",
    "# Make predictions\n",
    "prediction = clf.predict(random_df)\n",
    "\n",
    "print(\"Predicted Target Destination:\", prediction[0])"
   ],
   "metadata": {
    "collapsed": false,
    "ExecuteTime": {
     "end_time": "2023-12-05T19:20:58.486077Z",
     "start_time": "2023-12-05T19:20:58.397347100Z"
    }
   }
  },
  {
   "cell_type": "code",
   "execution_count": 126,
   "outputs": [
    {
     "name": "stdout",
     "output_type": "stream",
     "text": [
      "Cross-Validation Scores: [0.94  0.935 0.935 0.935 0.935]\n",
      "Mean CV Accuracy: 0.9359999999999999\n"
     ]
    }
   ],
   "source": [
    "from sklearn.model_selection import cross_val_score, GridSearchCV\n",
    "\n",
    "X = df.drop(target_variable, axis=1)\n",
    "y = df[target_variable]\n",
    "\n",
    "X_train, X_test, y_train, y_test = train_test_split(X, y, test_size=0.2, random_state=42)\n",
    "\n",
    "clf = RandomForestClassifier(random_state=42)\n",
    "\n",
    "cv_scores = cross_val_score(clf, X, y, cv=5, scoring='accuracy')\n",
    "print(\"Cross-Validation Scores:\", cv_scores)\n",
    "print(\"Mean CV Accuracy:\", cv_scores.mean())"
   ],
   "metadata": {
    "collapsed": false,
    "ExecuteTime": {
     "end_time": "2023-12-05T19:25:48.160659300Z",
     "start_time": "2023-12-05T19:25:46.952495500Z"
    }
   }
  },
  {
   "cell_type": "code",
   "execution_count": 127,
   "outputs": [
    {
     "name": "stdout",
     "output_type": "stream",
     "text": [
      "Best Parameters from Grid Search: {'max_depth': None, 'min_samples_leaf': 1, 'min_samples_split': 2, 'n_estimators': 50}\n",
      "Best CV Accuracy from Grid Search: 0.9359999999999999\n"
     ]
    }
   ],
   "source": [
    "param_grid = {\n",
    "    'n_estimators': [50, 100, 200],\n",
    "    'max_depth': [None, 10, 20],\n",
    "    'min_samples_split': [2, 5, 10],\n",
    "    'min_samples_leaf': [1, 2, 4]\n",
    "}\n",
    "\n",
    "grid_search = GridSearchCV(clf, param_grid, cv=5, scoring='accuracy')\n",
    "grid_search.fit(X, y)\n",
    "\n",
    "print(\"Best Parameters from Grid Search:\", grid_search.best_params_)\n",
    "print(\"Best CV Accuracy from Grid Search:\", grid_search.best_score_)\n"
   ],
   "metadata": {
    "collapsed": false,
    "ExecuteTime": {
     "end_time": "2023-12-05T19:27:27.115829Z",
     "start_time": "2023-12-05T19:26:04.574910700Z"
    }
   }
  },
  {
   "cell_type": "code",
   "execution_count": 129,
   "outputs": [
    {
     "name": "stdout",
     "output_type": "stream",
     "text": [
      "Accuracy: 0.93\n",
      "Confusion Matrix:\n",
      "[[185   0]\n",
      " [ 15   0]]\n",
      "Classification Report:\n",
      "              precision    recall  f1-score   support\n",
      "\n",
      "       False       0.93      1.00      0.96       185\n",
      "        True       1.00      0.00      0.00        15\n",
      "\n",
      "    accuracy                           0.93       200\n",
      "   macro avg       0.96      0.50      0.48       200\n",
      "weighted avg       0.93      0.93      0.89       200\n",
      "\n"
     ]
    }
   ],
   "source": [
    "best_clf = RandomForestClassifier(random_state=42, **grid_search.best_params_)\n",
    "best_clf.fit(X_train, y_train)\n",
    "\n",
    "# Make predictions on the test set\n",
    "y_pred = best_clf.predict(X_test)\n",
    "\n",
    "# Evaluate the performance\n",
    "accuracy = accuracy_score(y_test, y_pred)\n",
    "conf_matrix = confusion_matrix(y_test, y_pred)\n",
    "class_report = classification_report(y_test, y_pred, zero_division=1)\n",
    "\n",
    "print(\"Accuracy: {0:.2f}\".format(accuracy))\n",
    "print(\"Confusion Matrix:\")\n",
    "print(conf_matrix)\n",
    "print(\"Classification Report:\")\n",
    "print(class_report)"
   ],
   "metadata": {
    "collapsed": false,
    "ExecuteTime": {
     "end_time": "2023-12-05T19:30:06.585247100Z",
     "start_time": "2023-12-05T19:30:06.451226500Z"
    }
   }
  },
  {
   "cell_type": "code",
   "execution_count": null,
   "outputs": [],
   "source": [],
   "metadata": {
    "collapsed": false
   }
  }
 ],
 "metadata": {
  "kernelspec": {
   "display_name": "Python 3",
   "language": "python",
   "name": "python3"
  },
  "language_info": {
   "codemirror_mode": {
    "name": "ipython",
    "version": 2
   },
   "file_extension": ".py",
   "mimetype": "text/x-python",
   "name": "python",
   "nbconvert_exporter": "python",
   "pygments_lexer": "ipython2",
   "version": "2.7.6"
  }
 },
 "nbformat": 4,
 "nbformat_minor": 0
}
